{
 "cells": [
  {
   "cell_type": "code",
   "execution_count": 3,
   "id": "66506490",
   "metadata": {},
   "outputs": [
    {
     "name": "stdout",
     "output_type": "stream",
     "text": [
      "📄 Parámetros detectados:\n",
      "Parámetros: [Sucursal: Palermo, Fecha: 2024-06-01, Tipo de Venta: Online, Responsable: Juan Pérez, Canal: Web, Moneda: Pesos]\n",
      "\n",
      "✅ Archivo limpio guardado como 'ventas_limpias_2024.csv'\n"
     ]
    }
   ],
   "source": [
    "import pandas as pd\n",
    "import os\n",
    "\n",
    "# Paso 1: Verificar si el archivo existe\n",
    "ruta = \"../data/ventas_crudas_2024.csv\"\n",
    "if not os.path.exists(ruta):\n",
    "    raise FileNotFoundError(f\"❌ El archivo '{ruta}' no fue encontrado.\")\n",
    "\n",
    "# Paso 2: Cargar el archivo crudo\n",
    "df_crudo = pd.read_csv(ruta, header=None)\n",
    "\n",
    "# Paso 3: Extraer los parámetros (primera fila)\n",
    "parametros = df_crudo.iloc[0, 0]\n",
    "print(\"📄 Parámetros detectados:\")\n",
    "print(parametros)\n",
    "\n",
    "# Paso 4: Eliminar filas vacías y quedarnos con los datos reales\n",
    "df_datos = df_crudo[4:].copy()  # Salteamos las primeras 4 filas\n",
    "df_datos = df_datos[df_datos[0].notnull() & (df_datos[0] != \"\")]  # Eliminar vacías\n",
    "\n",
    "# Paso 5: Separar campos por ;\n",
    "df_datos = df_datos[0].str.split(\";\", expand=True)\n",
    "\n",
    "# Validación: Verificar que haya 8 columnas esperadas\n",
    "if df_datos.shape[1] != 8:\n",
    "    raise ValueError(f\"❌ Se esperaban 8 columnas después del split, pero se encontraron {df_datos.shape[1]}.\")\n",
    "\n",
    "# Paso 6: Nombrar columnas\n",
    "df_datos.columns = [\n",
    "    \"Producto\", \"Categoría\", \"Sucursal\", \"Vendedor\",\n",
    "    \"Cantidad\", \"Precio Unitario\", \"Total\", \"Fecha\"\n",
    "]\n",
    "\n",
    "# Validación: Verificar que no haya nulos en columnas clave\n",
    "columnas_clave = [\"Producto\", \"Cantidad\", \"Precio Unitario\", \"Total\", \"Fecha\"]\n",
    "if df_datos[columnas_clave].isnull().any().any():\n",
    "    raise ValueError(\"❌ Hay valores nulos en columnas clave.\")\n",
    "\n",
    "# Paso 7: Convertir tipos de datos\n",
    "df_datos[\"Cantidad\"] = pd.to_numeric(df_datos[\"Cantidad\"], errors=\"raise\")\n",
    "df_datos[\"Precio Unitario\"] = pd.to_numeric(df_datos[\"Precio Unitario\"], errors=\"raise\")\n",
    "df_datos[\"Total\"] = pd.to_numeric(df_datos[\"Total\"], errors=\"raise\")\n",
    "df_datos[\"Fecha\"] = pd.to_datetime(df_datos[\"Fecha\"], errors=\"raise\")\n",
    "\n",
    "# Paso 8: Guardar el dataset limpio\n",
    "df_datos.to_csv(\"ventas_limpias_2024.csv\", index=False, sep=';')\n",
    "print(\"\\n✅ Archivo limpio guardado como 'ventas_limpias_2024.csv'\")\n"
   ]
  }
 ],
 "metadata": {
  "kernelspec": {
   "display_name": "Python 3",
   "language": "python",
   "name": "python3"
  },
  "language_info": {
   "codemirror_mode": {
    "name": "ipython",
    "version": 3
   },
   "file_extension": ".py",
   "mimetype": "text/x-python",
   "name": "python",
   "nbconvert_exporter": "python",
   "pygments_lexer": "ipython3",
   "version": "3.13.3"
  }
 },
 "nbformat": 4,
 "nbformat_minor": 5
}
